{
 "cells": [
  {
   "cell_type": "code",
   "execution_count": null,
   "metadata": {},
   "outputs": [],
   "source": [
    "import os\n",
    "import pandas as pd\n",
    "import glob\n",
    "import numpy as np"
   ]
  },
  {
   "cell_type": "code",
   "execution_count": null,
   "metadata": {},
   "outputs": [],
   "source": [
    "lista = list(glob.glob('files3/*.xlsx'))\n",
    "print(type(lista))\n",
    "print(len(lista))"
   ]
  },
  {
   "cell_type": "code",
   "execution_count": null,
   "metadata": {},
   "outputs": [],
   "source": [
    "def remove_initial_part(s: str):\n",
    "    prefix = \"files3\\\\\"\n",
    "    if s.startswith(prefix):\n",
    "        return s[len(prefix):]\n",
    "    return s"
   ]
  },
  {
   "cell_type": "code",
   "execution_count": null,
   "metadata": {},
   "outputs": [],
   "source": [
    "# Get a list of all .xlsx files in the current directory\n",
    "files = glob.glob('files3/*.xlsx')\n",
    "\n",
    "# Create an empty list to store the dataframes\n",
    "dfs = []\n",
    "\n",
    "# Loop through the files and read each one into a dataframe\n",
    "for file in files:\n",
    "    df = pd.read_excel(file)\n",
    "    file_name = remove_initial_part(file)\n",
    "    df = (\n",
    "        df\n",
    "        .assign(ORIGEM = f'{file_name}')\n",
    "    )\n",
    "    #\n",
    "    dfs.append(df)\n",
    "\n",
    "# Concatenate all dataframes into a single dataframe\n",
    "final_df = pd.concat(dfs, ignore_index=True)\n",
    "final_df.head()"
   ]
  },
  {
   "cell_type": "code",
   "execution_count": null,
   "metadata": {},
   "outputs": [],
   "source": [
    "final_df.shape"
   ]
  },
  {
   "cell_type": "code",
   "execution_count": null,
   "metadata": {},
   "outputs": [],
   "source": [
    "final_df.describe()"
   ]
  },
  {
   "cell_type": "code",
   "execution_count": null,
   "metadata": {},
   "outputs": [],
   "source": [
    "cols = final_df.columns.to_list()\n",
    "final_df.columns"
   ]
  },
  {
   "cell_type": "code",
   "execution_count": null,
   "metadata": {},
   "outputs": [],
   "source": [
    "colunas={\n",
    "    'Inep': 'INEP2',\n",
    "    'Nº DE MATRÍCULA': 'MATRICULA', \n",
    "    'FUNÇÃO (PROFESSOR/A - DIRETOR/A - COORDENADOR/A - AEE)': 'FUNCAO',\n",
    "    'NOME COMPLETO DO(A) PROFESSOR(A)': 'NOME_COMPLETO',\n",
    "    'E-MAIL MAIS USADO':'EMAIL',\n",
    "    'ANO(s)/TURMA(s) que leciona (só para o professor(a))':'ANO_TURMA',\n",
    "    'DATA DE NASC. (dd/mm/aaaa)':'NASCIMENTO',\n",
    "    'Unidade Escolar': 'UNIDADE_ESCOLAR',\n",
    "    'Unidade escolar': 'UNIDADE_ESCOLAR2',\n",
    "    'E-MAIL (do(a) professor(a))':'EMAIL2',\n",
    "    'DATA DE NASC.':'NASCIMENTO2',\n",
    "    'UNIDADE ESCOLAR':'UNIDADE_ESCOLAR3',\n",
    "    'Unidade Escola':'UNIDADE_ESCOLAR4',\n",
    "    'ANO(s)/TURMA(s)\\nque leciona (só para o professor(a))':'ANO_TURMA2',\n",
    "    'DATA DE NASC.\\n(dd/mm/aaaa)':'NASCIMENTO3',\n",
    "    'FUNÇÃO (PROFESSOR/A - DIRETOR/A - COORDENADOR\\n/A - AEE)': 'FUNCAO2',\n",
    "    'ANO(s)/TU RMA(s)\\nque leciona':'ANO_TURMA3',\n",
    "    'Unidade Escolar':'UNIDADE_ESCOLAR5',\n",
    "    'Unidade':'UNIDADE_ESCOLAR',\n",
    "    'Unidade Escolar ':'UNIDADE_ESCOLAR6',\n",
    "}\n",
    "final_df_2 = final_df.rename(columns=colunas)"
   ]
  },
  {
   "cell_type": "code",
   "execution_count": null,
   "metadata": {},
   "outputs": [],
   "source": [
    "final_df_2.columns"
   ]
  },
  {
   "cell_type": "code",
   "execution_count": null,
   "metadata": {},
   "outputs": [],
   "source": [
    "final_df_2['ORIGEM'].unique()"
   ]
  },
  {
   "cell_type": "code",
   "execution_count": null,
   "metadata": {},
   "outputs": [],
   "source": [
    "final_df_2[['INEP','INEP2']].describe()"
   ]
  },
  {
   "cell_type": "code",
   "execution_count": null,
   "metadata": {},
   "outputs": [],
   "source": [
    "final_df_2.query('INEP.isnull() and INEP2.notnull()', engine='python')[['MATRICULA','INEP','INEP2']]#.count()"
   ]
  },
  {
   "cell_type": "code",
   "execution_count": null,
   "metadata": {},
   "outputs": [],
   "source": [
    "final_df_2.query('INEP.notnull() and INEP2.isnull()', engine='python')[['MATRICULA','INEP','INEP2']]#.count()"
   ]
  },
  {
   "cell_type": "code",
   "execution_count": null,
   "metadata": {},
   "outputs": [],
   "source": [
    "final_df_2.query('INEP.notnull() and INEP2.notnull()', engine='python')[['MATRICULA','INEP','INEP2']]#.count()"
   ]
  },
  {
   "cell_type": "code",
   "execution_count": null,
   "metadata": {},
   "outputs": [],
   "source": [
    "final_df_2['INEP'] = final_df_2['INEP'].fillna(final_df_2['INEP2'])"
   ]
  },
  {
   "cell_type": "code",
   "execution_count": null,
   "metadata": {},
   "outputs": [],
   "source": [
    "final_df_2.query('INEP.notnull()', engine='python')[['MATRICULA','INEP','INEP2']]#.count()"
   ]
  },
  {
   "cell_type": "code",
   "execution_count": null,
   "metadata": {},
   "outputs": [],
   "source": [
    "final_df_2.query('INEP.isnull() and INEP2.notnull()', engine='python')[['MATRICULA','INEP','INEP2']]#.count()"
   ]
  },
  {
   "cell_type": "markdown",
   "metadata": {},
   "source": [
    "ANO_TURMA"
   ]
  },
  {
   "cell_type": "code",
   "execution_count": null,
   "metadata": {},
   "outputs": [],
   "source": [
    "final_df_2[['ANO_TURMA','ANO_TURMA2','ANO_TURMA3']].describe()"
   ]
  },
  {
   "cell_type": "code",
   "execution_count": null,
   "metadata": {},
   "outputs": [],
   "source": [
    "final_df_2.query('ANO_TURMA.isnull() and ANO_TURMA2.isnull() and ANO_TURMA3.isnull()', engine='python')[['MATRICULA','ANO_TURMA','ANO_TURMA2','ANO_TURMA3']]#.count()"
   ]
  },
  {
   "cell_type": "code",
   "execution_count": null,
   "metadata": {},
   "outputs": [],
   "source": [
    "final_df_2['ANO_TURMA'] = final_df_2['ANO_TURMA'].fillna(final_df_2['ANO_TURMA2'])\n",
    "final_df_2['ANO_TURMA'] = final_df_2['ANO_TURMA'].fillna(final_df_2['ANO_TURMA3'])"
   ]
  },
  {
   "cell_type": "code",
   "execution_count": null,
   "metadata": {},
   "outputs": [],
   "source": [
    "final_df_2[['ANO_TURMA','ANO_TURMA2','ANO_TURMA3']].describe()"
   ]
  },
  {
   "cell_type": "code",
   "execution_count": null,
   "metadata": {},
   "outputs": [],
   "source": [
    "final_df_2['ANO_TURMA'].nunique(),final_df_2['ANO_TURMA'].unique()"
   ]
  },
  {
   "cell_type": "markdown",
   "metadata": {},
   "source": [
    "EMAIL"
   ]
  },
  {
   "cell_type": "code",
   "execution_count": null,
   "metadata": {},
   "outputs": [],
   "source": [
    "final_df_2[['EMAIL','EMAIL2']].describe()"
   ]
  },
  {
   "cell_type": "code",
   "execution_count": null,
   "metadata": {},
   "outputs": [],
   "source": [
    "final_df_2.query('EMAIL.isnull() and EMAIL2.isnull()', engine='python')[['MATRICULA','EMAIL','EMAIL2']]#.count()"
   ]
  },
  {
   "cell_type": "code",
   "execution_count": null,
   "metadata": {},
   "outputs": [],
   "source": [
    "final_df_2['EMAIL'] = final_df_2['EMAIL'].fillna(final_df_2['EMAIL2'])"
   ]
  },
  {
   "cell_type": "code",
   "execution_count": null,
   "metadata": {},
   "outputs": [],
   "source": [
    "final_df_2[['EMAIL','EMAIL2']].describe()"
   ]
  },
  {
   "cell_type": "markdown",
   "metadata": {},
   "source": [
    "NASCIMENTO"
   ]
  },
  {
   "cell_type": "code",
   "execution_count": null,
   "metadata": {},
   "outputs": [],
   "source": [
    "final_df_2[['NASCIMENTO','NASCIMENTO2','NASCIMENTO3']].describe()"
   ]
  },
  {
   "cell_type": "code",
   "execution_count": null,
   "metadata": {},
   "outputs": [],
   "source": [
    "final_df_2.query('NASCIMENTO.isnull() and NASCIMENTO2.isnull() and NASCIMENTO3.isnull()', engine='python')[['MATRICULA','NASCIMENTO','NASCIMENTO2','NASCIMENTO3']]#.count()"
   ]
  },
  {
   "cell_type": "code",
   "execution_count": null,
   "metadata": {},
   "outputs": [],
   "source": [
    "final_df_2['NASCIMENTO'] = final_df_2['NASCIMENTO'].fillna(final_df_2['NASCIMENTO2'])\n",
    "final_df_2['NASCIMENTO'] = final_df_2['NASCIMENTO'].fillna(final_df_2['NASCIMENTO3'])"
   ]
  },
  {
   "cell_type": "code",
   "execution_count": null,
   "metadata": {},
   "outputs": [],
   "source": [
    "final_df_2[['NASCIMENTO','NASCIMENTO2','NASCIMENTO3']].describe()"
   ]
  },
  {
   "cell_type": "code",
   "execution_count": null,
   "metadata": {},
   "outputs": [],
   "source": [
    "final_df_2['NASCIMENTO'].nunique(),final_df_2['NASCIMENTO'].unique()"
   ]
  },
  {
   "cell_type": "markdown",
   "metadata": {},
   "source": [
    "FUNCAO"
   ]
  },
  {
   "cell_type": "code",
   "execution_count": null,
   "metadata": {},
   "outputs": [],
   "source": [
    "final_df_2[['FUNCAO','FUNCAO2']].describe()"
   ]
  },
  {
   "cell_type": "code",
   "execution_count": null,
   "metadata": {},
   "outputs": [],
   "source": [
    "final_df_2.query('FUNCAO.isnull() and FUNCAO2.isnull()', engine='python')[['MATRICULA','FUNCAO','FUNCAO2']]#.count()"
   ]
  },
  {
   "cell_type": "code",
   "execution_count": null,
   "metadata": {},
   "outputs": [],
   "source": [
    "final_df_2['FUNCAO'] = final_df_2['FUNCAO'].fillna(final_df_2['FUNCAO2'])"
   ]
  },
  {
   "cell_type": "code",
   "execution_count": null,
   "metadata": {},
   "outputs": [],
   "source": [
    "final_df_2[['FUNCAO','FUNCAO2']].describe()"
   ]
  },
  {
   "cell_type": "markdown",
   "metadata": {},
   "source": [
    "NOME_COMPLETO , NOME_FUNCIONARIO"
   ]
  },
  {
   "cell_type": "code",
   "execution_count": null,
   "metadata": {},
   "outputs": [],
   "source": [
    "final_df_2['NOME_FUNCIONARIO'].nunique(),final_df_2['NOME_FUNCIONARIO'].unique()"
   ]
  },
  {
   "cell_type": "code",
   "execution_count": null,
   "metadata": {},
   "outputs": [],
   "source": [
    "final_df_2.query('NOME_FUNCIONARIO.isnull() and NOME_COMPLETO.isnull()', engine='python')[['MATRICULA','NOME_FUNCIONARIO','NOME_COMPLETO']]#.count()"
   ]
  },
  {
   "cell_type": "code",
   "execution_count": null,
   "metadata": {},
   "outputs": [],
   "source": [
    "final_df_2[['NOME_FUNCIONARIO','NOME_COMPLETO']].describe()"
   ]
  },
  {
   "cell_type": "code",
   "execution_count": null,
   "metadata": {},
   "outputs": [],
   "source": [
    "final_df_2.query('NOME_FUNCIONARIO.notnull() and NOME_COMPLETO.notnull()', engine='python')[['MATRICULA','NOME_FUNCIONARIO','NOME_COMPLETO']]#.count()"
   ]
  },
  {
   "cell_type": "code",
   "execution_count": null,
   "metadata": {},
   "outputs": [],
   "source": [
    "final_df_2['NOME_COMPLETO'] = final_df_2['NOME_COMPLETO'].fillna(final_df_2['NOME_FUNCIONARIO'])"
   ]
  },
  {
   "cell_type": "code",
   "execution_count": null,
   "metadata": {},
   "outputs": [],
   "source": [
    "final_df_2[['NOME_FUNCIONARIO','NOME_COMPLETO']].describe()"
   ]
  },
  {
   "cell_type": "markdown",
   "metadata": {},
   "source": [
    "UNIDADE_ESCOLAR"
   ]
  },
  {
   "cell_type": "code",
   "execution_count": null,
   "metadata": {},
   "outputs": [],
   "source": [
    "final_df_2[['UNIDADE_ESCOLAR','UNIDADE_ESCOLAR2','UNIDADE_ESCOLAR3','UNIDADE_ESCOLAR4','UNIDADE_ESCOLAR5','UNIDADE_ESCOLAR6']].describe()"
   ]
  },
  {
   "cell_type": "code",
   "execution_count": null,
   "metadata": {},
   "outputs": [],
   "source": [
    "final_df_2.query(\n",
    "    'UNIDADE_ESCOLAR.notnull() and UNIDADE_ESCOLAR2.notnull() and UNIDADE_ESCOLAR3.notnull() and UNIDADE_ESCOLAR4.notnull() and UNIDADE_ESCOLAR5.notnull() and UNIDADE_ESCOLAR6.notnull()',\n",
    "    engine='python'\n",
    "    )[['MATRICULA','UNIDADE_ESCOLAR','UNIDADE_ESCOLAR2','UNIDADE_ESCOLAR3','UNIDADE_ESCOLAR4','UNIDADE_ESCOLAR5','UNIDADE_ESCOLAR6']]#.count()"
   ]
  },
  {
   "cell_type": "code",
   "execution_count": null,
   "metadata": {},
   "outputs": [],
   "source": [
    "final_df_2['UNIDADE_ESCOLAR'] = final_df_2['UNIDADE_ESCOLAR'].fillna(final_df_2['UNIDADE_ESCOLAR2'])\n",
    "final_df_2['UNIDADE_ESCOLAR'] = final_df_2['UNIDADE_ESCOLAR'].fillna(final_df_2['UNIDADE_ESCOLAR3'])\n",
    "final_df_2['UNIDADE_ESCOLAR'] = final_df_2['UNIDADE_ESCOLAR'].fillna(final_df_2['UNIDADE_ESCOLAR4'])\n",
    "final_df_2['UNIDADE_ESCOLAR'] = final_df_2['UNIDADE_ESCOLAR'].fillna(final_df_2['UNIDADE_ESCOLAR5'])\n",
    "final_df_2['UNIDADE_ESCOLAR'] = final_df_2['UNIDADE_ESCOLAR'].fillna(final_df_2['UNIDADE_ESCOLAR6'])"
   ]
  },
  {
   "cell_type": "code",
   "execution_count": null,
   "metadata": {},
   "outputs": [],
   "source": [
    "final_df_2[['UNIDADE_ESCOLAR','UNIDADE_ESCOLAR2','UNIDADE_ESCOLAR3','UNIDADE_ESCOLAR4','UNIDADE_ESCOLAR5','UNIDADE_ESCOLAR6']].describe()"
   ]
  },
  {
   "cell_type": "code",
   "execution_count": null,
   "metadata": {},
   "outputs": [],
   "source": [
    "colunas = ['MATRICULA', 'FUNCAO', 'NOME_COMPLETO', 'EMAIL', 'ANO_TURMA',\n",
    "       'NASCIMENTO', 'ORIGEM', 'UNIDADE_ESCOLAR',\n",
    "       'INEP', 'MATR_EXTERNA', \n",
    "       'DESCR_CARGO']"
   ]
  },
  {
   "cell_type": "code",
   "execution_count": null,
   "metadata": {},
   "outputs": [],
   "source": [
    "final_df_2['DESCR_CARGO'].nunique(),final_df_2['DESCR_CARGO'].unique()"
   ]
  },
  {
   "cell_type": "code",
   "execution_count": null,
   "metadata": {},
   "outputs": [],
   "source": [
    "# select columns by name\n",
    "\n",
    "final_df_2 = final_df_2.filter(items=colunas)"
   ]
  }
 ],
 "metadata": {
  "kernelspec": {
   "display_name": ".venv",
   "language": "python",
   "name": "python3"
  },
  "language_info": {
   "codemirror_mode": {
    "name": "ipython",
    "version": 3
   },
   "file_extension": ".py",
   "mimetype": "text/x-python",
   "name": "python",
   "nbconvert_exporter": "python",
   "pygments_lexer": "ipython3",
   "version": "3.12.1"
  }
 },
 "nbformat": 4,
 "nbformat_minor": 2
}
